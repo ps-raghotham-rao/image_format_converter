{
 "cells": [
  {
   "cell_type": "code",
   "execution_count": 52,
   "metadata": {},
   "outputs": [],
   "source": [
    "# Using PILLOW\n",
    "\n",
    "import glob\n",
    "from PIL import Image"
   ]
  },
  {
   "cell_type": "code",
   "execution_count": 53,
   "metadata": {},
   "outputs": [],
   "source": [
    "# Old Format - Existing image format. New format - The desirable format which you want to conver the image to.\n",
    "old_format = \"tif\"\n",
    "new_format = \"jpg\"\n",
    "\n",
    "# path is where you give the location of the images that is to be converted.\n",
    "path = glob.glob(r\"C:\\Users\\Raghotham\\Downloads\\image_format_converter\\*\"+\".\"+str(old_format))\n",
    "\n",
    "# path_to_store_converted_images is where you give the location to store converted images.\n",
    "path_to_store_converted_images = r\"C:\\Users\\Raghotham\\Downloads\\image_format_converter\\new_format_folder\"\n",
    "\n",
    "# adding backslash to the file path. As raw string does not allow direct '\\' adding at the end. So, import os can be used or directly we can append.\n",
    "path_to_store_converted_images+=\"\\\\\""
   ]
  },
  {
   "cell_type": "code",
   "execution_count": 54,
   "metadata": {},
   "outputs": [
    {
     "name": "stdout",
     "output_type": "stream",
     "text": [
      "C:\\Users\\Raghotham\\Downloads\\image_format_converter\\new_format_folder\\dbz.jpg\n",
      "C:\\Users\\Raghotham\\Downloads\\image_format_converter\\new_format_folder\\sunlight.jpg\n",
      "C:\\Users\\Raghotham\\Downloads\\image_format_converter\\new_format_folder\\travel.jpg\n",
      "C:\\Users\\Raghotham\\Downloads\\image_format_converter\\new_format_folder\\virus.jpg\n"
     ]
    }
   ],
   "source": [
    "for file in path:\n",
    "    file_name = file.split('\\\\')[-1].split('.')[0] + \".\" + new_format\n",
    "    path_to_store_images_with_file_name = path_to_store_converted_images+file_name\n",
    "    print(path_to_store_images_with_file_name)\n",
    "    im = Image.open(file)\n",
    "    im.save(path_to_store_images_with_file_name)"
   ]
  },
  {
   "cell_type": "code",
   "execution_count": null,
   "metadata": {},
   "outputs": [],
   "source": []
  }
 ],
 "metadata": {
  "interpreter": {
   "hash": "4d91245b5ef3f22e1b9644b54a3e23e831811f87a82105808b9487b677e28aba"
  },
  "kernelspec": {
   "display_name": "Python 3.10.0 64-bit",
   "name": "python3"
  },
  "language_info": {
   "codemirror_mode": {
    "name": "ipython",
    "version": 3
   },
   "file_extension": ".py",
   "mimetype": "text/x-python",
   "name": "python",
   "nbconvert_exporter": "python",
   "pygments_lexer": "ipython3",
   "version": "3.10.0"
  },
  "orig_nbformat": 4
 },
 "nbformat": 4,
 "nbformat_minor": 2
}
